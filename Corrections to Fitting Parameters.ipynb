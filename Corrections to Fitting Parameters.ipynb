{
 "cells": [
  {
   "cell_type": "markdown",
   "id": "6a300a63-2bd4-4368-8b46-455ba2cb685f",
   "metadata": {},
   "source": [
    "# Correcting the Fitting Parameters in Table 1 of CR21\n",
    "\n",
    "In Cimerman and Rafikov 2021, the fitting parameters to $\\Delta \\chi$ were incorrectly estimated due to a scaling error of $2 \\pi$ in the calculation of $\\partial F/\\partial R$. We have confirmed that rescaling their solution by $2 \\pi$ gives surface density estimates as expected (see `Example.ipynb`) and in this notebook we now re-estimate the ftting paramters.\n",
    "\n",
    "We take the 'known' correct solution of \n",
    "\n",
    "\\begin{equation}\n",
    "    f_{dep} = 2 \\pi f_{\\text{as written}}\n",
    "\\end{equation}\n",
    "\n",
    "and use this to calculate a corrected $\\Delta \\chi$ and then fit a new set of the parameters $A, \\tau_b, \\alpha_1, \\alpha_2 \\text{and} \\Delta$ using this."
   ]
  },
  {
   "cell_type": "code",
   "execution_count": 12,
   "id": "5d808d41-b36e-4dfc-a5e3-50037d875695",
   "metadata": {},
   "outputs": [],
   "source": [
    "import numpy as np\n",
    "from scipy.optimize import minimize_scalar, root_scalar, curve_fit\n",
    "\n",
    "import matplotlib.pyplot as plt\n",
    "\n",
    "from gap_shape_python.calc_shock import *"
   ]
  },
  {
   "cell_type": "code",
   "execution_count": 13,
   "id": "4f67e3cc-e9ac-48c0-b2ba-7a90baed35c3",
   "metadata": {},
   "outputs": [],
   "source": [
    "\n",
    "def create_minimizer(p_orig):\n",
    "    def func(epsilon):\n",
    "        psi = (epsilon * (2 + epsilon) - 2 * (1 + epsilon) * np.log(1 + epsilon))/(2 * (1 + epsilon))\n",
    "        return np.abs(p_orig - psi)\n",
    "    return func\n",
    "\n",
    "def get_epsilon(psi):\n",
    "    return minimize_scalar(create_minimizer(psi), bracket=[-1e-5, 1], method='brent').x\n",
    "\n",
    "\n",
    "def create_corrected_fit(p, h_p, m_p, correction=2 * np.pi):\n",
    "    R = np.linspace(0.1, 5, 1000)\n",
    "\n",
    "    tau = compute_tau_R_keplerian(R, p, h_p, m_p)\n",
    "\n",
    "    tau_0 = 1.89 * m_p  # equation 16 in CR21\n",
    "    \n",
    "    def chi_func(tau, A, tau_b, alpha_1, alpha_2, delta):\n",
    "        tau_squiggle = np.abs(tau - tau_0)\n",
    "\n",
    "        return (A * (tau_squiggle/tau_b)**(-1 * alpha_1) *\n",
    "                 (1 + (tau_squiggle/tau_b)**(1/delta))**(\n",
    "                    (alpha_1 - alpha_2)*delta))\n",
    "\n",
    "    \n",
    "    delta_chi = compute_delta_chi(R, tau, tau_0, use_cr_21=True)\n",
    "            \n",
    "    epsilon_original = delta_chi * m_p * (np.abs(R**(-3/2) - 1)/(R**(1 - p) * h_p * np.sqrt(2)))**(1/2)\n",
    "\n",
    "    psi_original = (epsilon_original * (2 + epsilon_original) - 2 * (1 + epsilon_original) * np.log(1 + epsilon_original))/(2 * (1 + epsilon_original))\n",
    "\n",
    "    v_get_epsilon = np.vectorize(get_epsilon)\n",
    "\n",
    "    new_epsilon_scaled = v_get_epsilon(psi_original * correction)\n",
    "\n",
    "    delta_chi_new = new_epsilon_scaled/(m_p * (np.abs(R**(-3/2) - 1)/(R**(1 - p) * h_p * np.sqrt(2)))**(1/2))\n",
    "\n",
    "    inner_tau = tau[R < 1]\n",
    "    inner_chi = delta_chi_new[R < 1][inner_tau > tau_0]\n",
    "    inner_tau = inner_tau[inner_tau > tau_0]\n",
    "\n",
    "    outer_tau = tau[R > 1]\n",
    "    outer_chi = delta_chi_new[R > 1][outer_tau > tau_0]\n",
    "    outer_tau = outer_tau[outer_tau > tau_0]\n",
    "    \n",
    "    # Refit Table 1 values based on this\n",
    "\n",
    "    # [2.07, 0.300, -10.84, 0.505, 0.623]\n",
    "    popt_inner, pcov = curve_fit(chi_func, inner_tau, inner_chi,\n",
    "                           # Use the CR21 fit as input\n",
    "                            p0 = [2.07, 0.300, -10.84, 0.505, 0.623])\n",
    "    print('inner', popt_inner)\n",
    "    print(np.diagonal(pcov)**(1/2))\n",
    "\n",
    "    popt_outer, pcov = curve_fit(chi_func, outer_tau, outer_chi,\n",
    "                           # Use the CR21 fit as input\n",
    "                            p0 = [3.11, 0.181, -8.63, 0.525, 0.766])\n",
    "    print('outer', popt_outer)\n",
    "    print(np.diagonal(pcov)**(1/2))\n",
    "    # Recalculate everything based on these values to compare\n",
    "    \n",
    "    alternative_fit = {'inner': popt_inner, 'outer': popt_outer}\n",
    "    \n",
    "    delta_chi = compute_delta_chi(R, tau, tau_0, False, alternative_fit)\n",
    "\n",
    "    epsilon = delta_chi * m_p * (np.abs(R**(-3/2) - 1)/(R**(1 - p) * h_p * np.sqrt(2)))**(1/2)\n",
    "    \n",
    "    psi = (epsilon * (2 + epsilon) - 2 * (1 + epsilon) * np.log(1 + epsilon))/(2 * (1 + epsilon))\n",
    "\n",
    "    \n",
    "    plt.plot(R, psi_original * correction)\n",
    "    plt.plot(R, psi)\n",
    "    \n",
    "    return alternative_fit\n"
   ]
  },
  {
   "cell_type": "code",
   "execution_count": 14,
   "id": "cf148f27-45c8-4d7a-b3ea-3ac2b4dcb79e",
   "metadata": {},
   "outputs": [
    {
     "name": "stdout",
     "output_type": "stream",
     "text": [
      "inner [ 3.64447063  0.41486091 -7.75264931  0.51830383  0.59109359]\n",
      "[0.02656137 0.00523432 0.11843553 0.00024359 0.00144816]\n",
      "outer [ 4.99262939  0.29350545 -5.74964165  0.53780626  0.70719867]\n",
      "[0.02240955 0.00224105 0.04446242 0.00010212 0.0009444 ]\n"
     ]
    },
    {
     "name": "stderr",
     "output_type": "stream",
     "text": [
      "/tmp/ipykernel_1658/2863837612.py:3: RuntimeWarning: invalid value encountered in log\n",
      "  psi = (epsilon * (2 + epsilon) - 2 * (1 + epsilon) * np.log(1 + epsilon))/(2 * (1 + epsilon))\n"
     ]
    },
    {
     "data": {
      "text/plain": [
       "{'inner': array([ 3.64447063,  0.41486091, -7.75264931,  0.51830383,  0.59109359]),\n",
       " 'outer': array([ 4.99262939,  0.29350545, -5.74964165,  0.53780626,  0.70719867])}"
      ]
     },
     "execution_count": 14,
     "metadata": {},
     "output_type": "execute_result"
    },
    {
     "data": {
      "image/png": "[encoded data removed]",
      "text/plain": [
       "<Figure size 640x480 with 1 Axes>"
      ]
     },
     "metadata": {},
     "output_type": "display_data"
    }
   ],
   "source": [
    "create_corrected_fit(1.5, 0.05, 0.25)"
   ]
  },
  {
   "cell_type": "code",
   "execution_count": null,
   "id": "ca070c0f-22fa-4a80-afbb-2956d473b08b",
   "metadata": {},
   "outputs": [],
   "source": []
  }
 ],
 "metadata": {
  "kernelspec": {
   "display_name": "Python 3 (ipykernel)",
   "language": "python",
   "name": "python3"
  },
  "language_info": {
   "codemirror_mode": {
    "name": "ipython",
    "version": 3
   },
   "file_extension": ".py",
   "mimetype": "text/x-python",
   "name": "python",
   "nbconvert_exporter": "python",
   "pygments_lexer": "ipython3",
   "version": "3.10.8"
  }
 },
 "nbformat": 4,
 "nbformat_minor": 5
}
